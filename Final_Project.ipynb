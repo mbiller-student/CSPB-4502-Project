{
 "cells": [
  {
   "cell_type": "code",
   "execution_count": null,
   "id": "992866c1-18b5-46a2-92b2-7ea2c07853a4",
   "metadata": {},
   "outputs": [],
   "source": [
    "import pandas as pd\n",
    "import csv"
   ]
  },
  {
   "cell_type": "code",
   "execution_count": null,
   "id": "ddcc650b-675a-4646-ad56-7e95df053616",
   "metadata": {},
   "outputs": [],
   "source": [
    "with open(\"LAT_LON_Final.csv\") as text:\n",
    "    reader = csv.reader(text)\n",
    "    for item in reader:\n",
    "        all_years = [row for row in reader]"
   ]
  },
  {
   "cell_type": "code",
   "execution_count": null,
   "id": "cee12356-1e4b-4c5c-8ffe-5a922687ee35",
   "metadata": {},
   "outputs": [],
   "source": [
    "# Two year lists\n",
    "list_10_11 = []\n",
    "list_12_13 = []\n",
    "list_14_15 = []\n",
    "list_16_17 = []\n",
    "list_18_19 = []\n",
    "list_20_21 = []\n",
    "list_22_23 = []\n",
    "\n",
    "# Five year lists\n",
    "list_10_14 = []\n",
    "list_15_19 = []\n",
    "list_20_23 = []"
   ]
  },
  {
   "cell_type": "code",
   "execution_count": null,
   "id": "2955e4aa-a9f0-42c0-aa21-5ba5c3e8f167",
   "metadata": {},
   "outputs": [],
   "source": [
    "### Single Years for Covid Analysis ###\n",
    "\n",
    "list_2019 = []\n",
    "list_2020 = []\n",
    "list_2021 = []\n",
    "list_2022 = []"
   ]
  },
  {
   "cell_type": "code",
   "execution_count": null,
   "id": "79cc5f35-ebcb-4b95-bb88-72ba18fa2f53",
   "metadata": {},
   "outputs": [],
   "source": [
    "for item in all_years:\n",
    "    if item[1] == '2010' or item[1] == '2011':\n",
    "        list_10_11.append(item)\n",
    "    elif item[1] == '2012' or item[1] == '2013':\n",
    "        list_12_13.append(item)\n",
    "    elif item[1] == '2014' or item[1] == '2015':\n",
    "        list_14_15.append(item)\n",
    "    elif item[1] == '2016' or item[1] == '2017':\n",
    "        list_16_17.append(item)\n",
    "    elif item[1] == '2018' or item[1] == '2019':\n",
    "        list_18_19.append(item)\n",
    "    elif item[1] == '2020' or item[1] == '2021':\n",
    "        list_20_21.append(item)\n",
    "    elif item[1] == '2022' or item[1] == '2023':\n",
    "        list_22_23.append(item)"
   ]
  },
  {
   "cell_type": "code",
   "execution_count": null,
   "id": "2342b1dc-4d7d-48dc-8124-db04d5771864",
   "metadata": {},
   "outputs": [],
   "source": [
    "for item in all_years:\n",
    "    if item[1] == '2010' or item[1] == '2011' or item[1] == '2012' or item[1] == '2013' or item[1] == '2014':\n",
    "        list_10_14.append(item)\n",
    "    elif item[1] == '2015' or item[1] == '2016' or item[1] == '2017' or item[1] == '2018' or item[1] == '2019':\n",
    "        list_15_19.append(item)\n",
    "    elif item[1] == '2020' or item[1] == '2021' or item[1] == '2022' or item[1] == '2023':\n",
    "        list_20_23.append(item)"
   ]
  },
  {
   "cell_type": "code",
   "execution_count": null,
   "id": "d911cf26-b562-4e33-a447-6154c52c81e5",
   "metadata": {},
   "outputs": [],
   "source": [
    "# Loop for Covid Years #\n",
    "\n",
    "for item in all_years:\n",
    "    if item[1] == '2019':\n",
    "        list_2019.append(item)\n",
    "    elif item[1] == '2020':\n",
    "        list_2020.append(item)\n",
    "    elif item[1] == '2021':\n",
    "        list_2021.append(item)\n",
    "    elif item[1] == '2022':\n",
    "        list_2022.append(item)"
   ]
  },
  {
   "cell_type": "code",
   "execution_count": null,
   "id": "c14930cd-9e26-4d09-a2e9-688946c1a702",
   "metadata": {},
   "outputs": [],
   "source": [
    "## DataFrames ##\n",
    "\n",
    "df_10_11 = pd.DataFrame(list_10_11, columns= ['DR_NO', 'DATE OCC', 'AREA NAME', 'Crm Cd Desc', 'Vict Age', 'Vict Sex', 'Vict Descent',\n",
    "                                              'Premis Desc', 'Weapon Desc', 'LOCATION', 'Cross Street', 'LAT', 'LON'])\n",
    "df_12_13 = pd.DataFrame(list_12_13, columns= ['DR_NO', 'DATE OCC', 'AREA NAME', 'Crm Cd Desc', 'Vict Age', 'Vict Sex', 'Vict Descent',\n",
    "                                              'Premis Desc', 'Weapon Desc', 'LOCATION', 'Cross Street', 'LAT', 'LON'])\n",
    "df_14_15 = pd.DataFrame(list_14_15, columns= ['DR_NO', 'DATE OCC', 'AREA NAME', 'Crm Cd Desc', 'Vict Age', 'Vict Sex', 'Vict Descent',\n",
    "                                              'Premis Desc', 'Weapon Desc', 'LOCATION', 'Cross Street', 'LAT', 'LON'])\n",
    "df_16_17 = pd.DataFrame(list_16_17, columns= ['DR_NO', 'DATE OCC', 'AREA NAME', 'Crm Cd Desc', 'Vict Age', 'Vict Sex', 'Vict Descent',\n",
    "                                              'Premis Desc', 'Weapon Desc', 'LOCATION', 'Cross Street', 'LAT', 'LON'])\n",
    "df_18_19 = pd.DataFrame(list_18_19, columns= ['DR_NO', 'DATE OCC', 'AREA NAME', 'Crm Cd Desc', 'Vict Age', 'Vict Sex', 'Vict Descent',\n",
    "                                              'Premis Desc', 'Weapon Desc', 'LOCATION', 'Cross Street', 'LAT', 'LON'])\n",
    "df_20_21 = pd.DataFrame(list_20_21, columns= ['DR_NO', 'DATE OCC', 'AREA NAME', 'Crm Cd Desc', 'Vict Age', 'Vict Sex', 'Vict Descent',\n",
    "                                              'Premis Desc', 'Weapon Desc', 'LOCATION', 'Cross Street', 'LAT', 'LON'])\n",
    "df_22_23 = pd.DataFrame(list_22_23, columns= ['DR_NO', 'DATE OCC', 'AREA NAME', 'Crm Cd Desc', 'Vict Age', 'Vict Sex', 'Vict Descent',\n",
    "                                              'Premis Desc', 'Weapon Desc', 'LOCATION', 'Cross Street', 'LAT', 'LON'])"
   ]
  },
  {
   "cell_type": "code",
   "execution_count": null,
   "id": "1ef36984-270e-4d9c-88b6-d8621f979090",
   "metadata": {},
   "outputs": [],
   "source": [
    "## Five Year ## \n",
    "df_10_14 = pd.DataFrame(list_10_14, columns= ['DR_NO', 'DATE OCC', 'AREA NAME', 'Crm Cd Desc', 'Vict Age', 'Vict Sex', 'Vict Descent',\n",
    "                                              'Premis Desc', 'Weapon Desc', 'LOCATION', 'Cross Street', 'LAT', 'LON'])\n",
    "df_15_19 = pd.DataFrame(list_15_19, columns= ['DR_NO', 'DATE OCC', 'AREA NAME', 'Crm Cd Desc', 'Vict Age', 'Vict Sex', 'Vict Descent',\n",
    "                                              'Premis Desc', 'Weapon Desc', 'LOCATION', 'Cross Street', 'LAT', 'LON'])\n",
    "df_20_23 = pd.DataFrame(list_20_23, columns= ['DR_NO', 'DATE OCC', 'AREA NAME', 'Crm Cd Desc', 'Vict Age', 'Vict Sex', 'Vict Descent',\n",
    "                                              'Premis Desc', 'Weapon Desc', 'LOCATION', 'Cross Street', 'LAT', 'LON'])"
   ]
  },
  {
   "cell_type": "code",
   "execution_count": null,
   "id": "94cb3957-56e0-45a4-9852-fb9cc7f4e890",
   "metadata": {},
   "outputs": [],
   "source": [
    "## Coivd Years DFs ##\n",
    "\n",
    "df_2019 = pd.DataFrame(list_2019, columns= ['DR_NO', 'DATE OCC', 'AREA NAME', 'Crm Cd Desc', 'Vict Age', 'Vict Sex', 'Vict Descent',\n",
    "                                              'Premis Desc', 'Weapon Desc', 'LOCATION', 'Cross Street', 'LAT', 'LON'])\n",
    "df_2020 = pd.DataFrame(list_2020, columns= ['DR_NO', 'DATE OCC', 'AREA NAME', 'Crm Cd Desc', 'Vict Age', 'Vict Sex', 'Vict Descent',\n",
    "                                              'Premis Desc', 'Weapon Desc', 'LOCATION', 'Cross Street', 'LAT', 'LON'])\n",
    "df_2021 = pd.DataFrame(list_2021, columns= ['DR_NO', 'DATE OCC', 'AREA NAME', 'Crm Cd Desc', 'Vict Age', 'Vict Sex', 'Vict Descent',\n",
    "                                              'Premis Desc', 'Weapon Desc', 'LOCATION', 'Cross Street', 'LAT', 'LON'])\n",
    "df_2022 = pd.DataFrame(list_2022, columns= ['DR_NO', 'DATE OCC', 'AREA NAME', 'Crm Cd Desc', 'Vict Age', 'Vict Sex', 'Vict Descent',\n",
    "                                              'Premis Desc', 'Weapon Desc', 'LOCATION', 'Cross Street', 'LAT', 'LON'])"
   ]
  },
  {
   "cell_type": "code",
   "execution_count": null,
   "id": "9a3d093b-0777-49ac-90fe-efef76acfbf4",
   "metadata": {},
   "outputs": [],
   "source": [
    "## Dictionaries for crime ## \n",
    "\n",
    "dict_10_11 = {}\n",
    "for item in df_10_11['Crm Cd Desc']:\n",
    "    if (item in dict_10_11):\n",
    "        dict_10_11[item] += 1\n",
    "    else:\n",
    "        dict_10_11[item] = 1\n",
    "        \n",
    "sorted_10_11 = sorted(dict_10_11.items(), key = lambda x:x[1], reverse = True)\n",
    "dict_10_11 = dict(sorted_10_11)\n",
    "################################\n",
    "dict_12_13 = {}\n",
    "for item in df_12_13['Crm Cd Desc']:\n",
    "    if (item in dict_12_13):\n",
    "        dict_12_13[item] += 1\n",
    "    else:\n",
    "        dict_12_13[item] = 1\n",
    "        \n",
    "sorted_12_13 = sorted(dict_12_13.items(), key = lambda x:x[1], reverse = True)\n",
    "dict_12_13 = dict(sorted_12_13)\n",
    "################################\n",
    "dict_14_15 = {}\n",
    "for item in df_14_15['Crm Cd Desc']:\n",
    "    if (item in dict_14_15):\n",
    "        dict_14_15[item] += 1\n",
    "    else:\n",
    "        dict_14_15[item] = 1\n",
    "        \n",
    "sorted_14_15 = sorted(dict_14_15.items(), key = lambda x:x[1], reverse = True)\n",
    "dict_14_15 = dict(sorted_14_15)\n",
    "################################\n",
    "dict_16_17 = {}\n",
    "for item in df_16_17['Crm Cd Desc']:\n",
    "    if (item in dict_16_17):\n",
    "        dict_16_17[item] += 1\n",
    "    else:\n",
    "        dict_16_17[item] = 1\n",
    "        \n",
    "sorted_16_17 = sorted(dict_16_17.items(), key = lambda x:x[1], reverse = True)\n",
    "dict_16_17 = dict(sorted_16_17)\n",
    "################################\n",
    "dict_18_19 = {}\n",
    "for item in df_18_19['Crm Cd Desc']:\n",
    "    if (item in dict_18_19):\n",
    "        dict_18_19[item] += 1\n",
    "    else:\n",
    "        dict_18_19[item] = 1\n",
    "        \n",
    "sorted_18_19 = sorted(dict_18_19.items(), key = lambda x:x[1], reverse = True)\n",
    "dict_18_19 = dict(sorted_18_19)\n",
    "################################\n",
    "dict_20_21 = {}\n",
    "for item in df_20_21['Crm Cd Desc']:\n",
    "    if (item in dict_20_21):\n",
    "        dict_20_21[item] += 1\n",
    "    else:\n",
    "        dict_20_21[item] = 1\n",
    "        \n",
    "sorted_20_21 = sorted(dict_20_21.items(), key = lambda x:x[1], reverse = True)\n",
    "dict_20_21 = dict(sorted_20_21)\n",
    "################################\n",
    "dict_22_23 = {}\n",
    "for item in df_22_23['Crm Cd Desc']:\n",
    "    if (item in dict_22_23):\n",
    "        dict_22_23[item] += 1\n",
    "    else:\n",
    "        dict_22_23[item] = 1\n",
    "\n",
    "sorted_22_23 = sorted(dict_22_23.items(), key = lambda x:x[1], reverse = True)\n",
    "dict_22_23 = dict(sorted_22_23)\n",
    "\n",
    "################################\n",
    "dict_10_14 = {}\n",
    "for item in df_10_14['Crm Cd Desc']:\n",
    "    if (item in dict_10_14):\n",
    "        dict_10_14[item] += 1\n",
    "    else:\n",
    "        dict_10_14[item] = 1\n",
    "\n",
    "sorted_10_14 = sorted(dict_10_14.items(), key = lambda x:x[1], reverse = True)\n",
    "dict_10_14 = dict(sorted_10_14)\n",
    "################################\n",
    "dict_15_19 = {}\n",
    "for item in df_15_19['Crm Cd Desc']:\n",
    "    if (item in dict_15_19):\n",
    "        dict_15_19[item] += 1\n",
    "    else:\n",
    "        dict_15_19[item] = 1\n",
    "\n",
    "sorted_15_19 = sorted(dict_15_19.items(), key = lambda x:x[1], reverse = True)\n",
    "dict_15_19 = dict(sorted_15_19)\n",
    "\n",
    "################################\n",
    "dict_20_23 = {}\n",
    "for item in df_20_23['Crm Cd Desc']:\n",
    "    if (item in dict_20_23):\n",
    "        dict_20_23[item] += 1\n",
    "    else:\n",
    "        dict_20_23[item] = 1\n",
    "\n",
    "sorted_20_23 = sorted(dict_20_23.items(), key = lambda x:x[1], reverse = True)\n",
    "dict_20_23 = dict(sorted_20_23)"
   ]
  },
  {
   "cell_type": "code",
   "execution_count": null,
   "id": "bed47786-1e6c-4079-87a6-669d55371f93",
   "metadata": {},
   "outputs": [],
   "source": [
    "## Dictionaries for Area ## \n",
    "\n",
    "dict_10_11_area = {}\n",
    "for item in df_10_11['AREA NAME']:\n",
    "    if (item in dict_10_11_area):\n",
    "        dict_10_11_area[item] += 1\n",
    "    else:\n",
    "        dict_10_11_area[item] = 1\n",
    "        \n",
    "sorted_10_11_area = sorted(dict_10_11_area.items(), key = lambda x:x[1], reverse = True)\n",
    "dict_10_11_area = dict(sorted_10_11_area)\n",
    "################################\n",
    "dict_12_13_area = {}\n",
    "for item in df_12_13['AREA NAME']:\n",
    "    if (item in dict_12_13_area):\n",
    "        dict_12_13_area[item] += 1\n",
    "    else:\n",
    "        dict_12_13_area[item] = 1\n",
    "        \n",
    "sorted_12_13_area = sorted(dict_12_13_area.items(), key = lambda x:x[1], reverse = True)\n",
    "dict_12_13_area = dict(sorted_12_13_area)\n",
    "################################\n",
    "dict_14_15_area = {}\n",
    "for item in df_14_15['AREA NAME']:\n",
    "    if (item in dict_14_15_area):\n",
    "        dict_14_15_area[item] += 1\n",
    "    else:\n",
    "        dict_14_15_area[item] = 1\n",
    "        \n",
    "sorted_14_15_area = sorted(dict_14_15_area.items(), key = lambda x:x[1], reverse = True)\n",
    "dict_14_15_area = dict(sorted_14_15_area)\n",
    "################################\n",
    "dict_16_17_area = {}\n",
    "for item in df_16_17['AREA NAME']:\n",
    "    if (item in dict_16_17_area):\n",
    "        dict_16_17_area[item] += 1\n",
    "    else:\n",
    "        dict_16_17_area[item] = 1\n",
    "        \n",
    "sorted_16_17_area = sorted(dict_16_17_area.items(), key = lambda x:x[1], reverse = True)\n",
    "dict_16_17_area = dict(sorted_16_17_area)\n",
    "################################\n",
    "dict_18_19_area = {}\n",
    "for item in df_18_19['AREA NAME']:\n",
    "    if (item in dict_18_19_area):\n",
    "        dict_18_19_area[item] += 1\n",
    "    else:\n",
    "        dict_18_19_area[item] = 1\n",
    "        \n",
    "sorted_18_19_area = sorted(dict_18_19_area.items(), key = lambda x:x[1], reverse = True)\n",
    "dict_18_19_area = dict(sorted_18_19_area)\n",
    "################################\n",
    "dict_20_21_area = {}\n",
    "for item in df_20_21['AREA NAME']:\n",
    "    if (item in dict_20_21_area):\n",
    "        dict_20_21_area[item] += 1\n",
    "    else:\n",
    "        dict_20_21_area[item] = 1\n",
    "        \n",
    "sorted_20_21_area = sorted(dict_20_21_area.items(), key = lambda x:x[1], reverse = True)\n",
    "dict_20_21_area = dict(sorted_20_21_area)\n",
    "################################\n",
    "dict_22_23_area = {}\n",
    "for item in df_22_23['AREA NAME']:\n",
    "    if (item in dict_22_23_area):\n",
    "        dict_22_23_area[item] += 1\n",
    "    else:\n",
    "        dict_22_23_area[item] = 1\n",
    "        \n",
    "sorted_22_23_area = sorted(dict_22_23_area.items(), key = lambda x:x[1], reverse = True)\n",
    "dict_22_23_area = dict(sorted_22_23_area)\n",
    "\n",
    "\n",
    "\n",
    "################################\n",
    "dict_10_14_area = {}\n",
    "for item in df_10_14['AREA NAME']:\n",
    "    if (item in dict_10_14_area):\n",
    "        dict_10_14_area[item] += 1\n",
    "    else:\n",
    "        dict_10_14_area[item] = 1\n",
    "\n",
    "sorted_10_14_area = sorted(dict_10_14_area.items(), key = lambda x:x[1], reverse = True)\n",
    "dict_10_14_area = dict(sorted_10_14_area)\n",
    "################################\n",
    "dict_15_19_area = {}\n",
    "for item in df_15_19['AREA NAME']:\n",
    "    if (item in dict_15_19_area):\n",
    "        dict_15_19_area[item] += 1\n",
    "    else:\n",
    "        dict_15_19_area[item] = 1\n",
    "\n",
    "sorted_15_19_area = sorted(dict_15_19_area.items(), key = lambda x:x[1], reverse = True)\n",
    "dict_15_19_area = dict(sorted_15_19_area)\n",
    "################################\n",
    "\n",
    "dict_20_23_area = {}\n",
    "for item in df_20_23['AREA NAME']:\n",
    "    if (item in dict_20_23_area):\n",
    "        dict_20_23_area[item] += 1\n",
    "    else:\n",
    "        dict_20_23_area[item] = 1\n",
    "\n",
    "sorted_20_23_area = sorted(dict_20_23_area.items(), key = lambda x:x[1], reverse = True)\n",
    "dict_20_23_area = dict(sorted_20_23_area)\n",
    "################################"
   ]
  },
  {
   "cell_type": "code",
   "execution_count": null,
   "id": "468975cd-69ca-464b-ac20-c431452c6d34",
   "metadata": {},
   "outputs": [],
   "source": [
    "## Coivd Dictionaries ##"
   ]
  },
  {
   "cell_type": "code",
   "execution_count": null,
   "id": "d92fb66a-9059-4b8b-86da-cdec1dd4ccf7",
   "metadata": {},
   "outputs": [],
   "source": [
    "dict_19 = {}\n",
    "for item in df_2019['Crm Cd Desc']:\n",
    "    if (item in dict_19):\n",
    "        dict_19[item] += 1\n",
    "    else:\n",
    "        dict_19[item] = 1\n",
    "        \n",
    "sorted_19 = sorted(dict_19.items(), key = lambda x:x[1], reverse = True)\n",
    "dict_19 = dict(sorted_19)\n",
    "\n",
    "dict_20 = {}\n",
    "for item in df_2020['Crm Cd Desc']:\n",
    "    if (item in dict_20):\n",
    "        dict_20[item] += 1\n",
    "    else:\n",
    "        dict_20[item] = 1\n",
    "        \n",
    "sorted_20 = sorted(dict_20.items(), key = lambda x:x[1], reverse = True)\n",
    "dict_20 = dict(sorted_20)\n",
    "\n",
    "dict_21 = {}\n",
    "for item in df_2021['Crm Cd Desc']:\n",
    "    if (item in dict_21):\n",
    "        dict_21[item] += 1\n",
    "    else:\n",
    "        dict_21[item] = 1\n",
    "        \n",
    "sorted_21 = sorted(dict_21.items(), key = lambda x:x[1], reverse = True)\n",
    "dict_21 = dict(sorted_21)\n",
    "\n",
    "dict_22 = {}\n",
    "for item in df_2022['Crm Cd Desc']:\n",
    "    if (item in dict_22):\n",
    "        dict_22[item] += 1\n",
    "    else:\n",
    "        dict_22[item] = 1\n",
    "        \n",
    "sorted_22 = sorted(dict_22.items(), key = lambda x:x[1], reverse = True)\n",
    "dict_22 = dict(sorted_22)"
   ]
  },
  {
   "cell_type": "code",
   "execution_count": null,
   "id": "807e4a91-44c5-4a88-9a68-349d6bd2739e",
   "metadata": {
    "tags": []
   },
   "outputs": [],
   "source": [
    "dict_19_area = {}\n",
    "for item in df_2019['AREA NAME']:\n",
    "    if (item in dict_19_area):\n",
    "        dict_19_area[item] += 1\n",
    "    else:\n",
    "        dict_19_area[item] = 1\n",
    "        \n",
    "sorted_19_area = sorted(dict_19_area.items(), key = lambda x:x[1], reverse = True)\n",
    "dict_19_area = dict(sorted_19_area)\n",
    "\n",
    "dict_20_area = {}\n",
    "for item in df_2020['AREA NAME']:\n",
    "    if (item in dict_20_area):\n",
    "        dict_20_area[item] += 1\n",
    "    else:\n",
    "        dict_20_area[item] = 1\n",
    "        \n",
    "sorted_20_area = sorted(dict_20_area.items(), key = lambda x:x[1], reverse = True)\n",
    "dict_20_area = dict(sorted_20_area)\n",
    "\n",
    "dict_21_area = {}\n",
    "for item in df_2021['AREA NAME']:\n",
    "    if (item in dict_21_area):\n",
    "        dict_21_area[item] += 1\n",
    "    else:\n",
    "        dict_21_area[item] = 1\n",
    "        \n",
    "sorted_21_area = sorted(dict_21_area.items(), key = lambda x:x[1], reverse = True)\n",
    "dict_21_area = dict(sorted_21_area)\n",
    "\n",
    "dict_22_area = {}\n",
    "for item in df_2022['AREA NAME']:\n",
    "    if (item in dict_22_area):\n",
    "        dict_22_area[item] += 1\n",
    "    else:\n",
    "        dict_22_area[item] = 1\n",
    "        \n",
    "sorted_22_area = sorted(dict_22_area.items(), key = lambda x:x[1], reverse = True)\n",
    "dict_22_area = dict(sorted_22_area)"
   ]
  },
  {
   "cell_type": "code",
   "execution_count": null,
   "id": "bb27a3c7-5fb7-4216-af97-f88affdb971a",
   "metadata": {},
   "outputs": [],
   "source": [
    "############################################"
   ]
  },
  {
   "cell_type": "code",
   "execution_count": null,
   "id": "00f6d1c1-ca9d-4a20-b7ed-7cefa730457d",
   "metadata": {},
   "outputs": [],
   "source": [
    "##### Arithmetic ######"
   ]
  },
  {
   "cell_type": "code",
   "execution_count": null,
   "id": "3f7c6e27-fe39-4e2a-9cde-0976f76b7dfa",
   "metadata": {},
   "outputs": [],
   "source": [
    "def percentage_change(x, y):\n",
    "    return ((y - x) / x) * 100"
   ]
  },
  {
   "cell_type": "code",
   "execution_count": null,
   "id": "9c0a7257-2ba9-4b84-9673-67534eac0dfc",
   "metadata": {},
   "outputs": [],
   "source": [
    "common_keys = set(dict_10_11.keys()) & set(dict_12_13.keys()) & set(dict_14_15.keys()) & set(dict_16_17.keys()) & set(dict_18_19.keys()) & set(dict_20_21.keys()) & set(dict_22_23.keys())\n",
    "common_keys_five = set(dict_10_14.keys()) & set(dict_15_19.keys()) & set(dict_20_23.keys())  "
   ]
  },
  {
   "cell_type": "code",
   "execution_count": null,
   "id": "71eb703c-c80c-4f50-8ed9-77517b5b8da7",
   "metadata": {},
   "outputs": [],
   "source": [
    "count = 0\n",
    "\n",
    "print(\"PERCENTAGE CHANGE OF CRIMES -- 2010/11, 2012/13\")\n",
    "print()\n",
    "for key in common_keys:\n",
    "    for dict in [dict_10_11, dict_12_13]:\n",
    "        count += 1\n",
    "        if count % 2 == 0: # Loop was printing two of everything, this prints every other line\n",
    "            print(key, dict_10_11[key], \"(2010/11)\", dict_12_13[key], \"(2012/13)\", \"---> \", percentage_change(dict_10_11[key], dict_12_13[key]))"
   ]
  },
  {
   "cell_type": "code",
   "execution_count": null,
   "id": "65109b4b-6e03-45c3-8f92-d1c6bd43191a",
   "metadata": {},
   "outputs": [],
   "source": [
    "count = 0\n",
    "\n",
    "print(\"PERCENTAGE CHANGE OF CRIMES -- 2012/13, 2014/15\")\n",
    "print()\n",
    "for key in common_keys:\n",
    "    for dict in [dict_12_13, dict_14_15]:\n",
    "        count += 1\n",
    "        if count % 2 == 0: # Loop was printing two of everything, this prints every other line\n",
    "            print(key, dict_12_13[key], \"(2012/13)\", dict_14_15[key], \"(2014/15)\", \"---> \", percentage_change(dict_12_13[key], dict_14_15[key]))"
   ]
  },
  {
   "cell_type": "code",
   "execution_count": null,
   "id": "36283cc7-ec35-4fe7-9217-e568a94422ba",
   "metadata": {},
   "outputs": [],
   "source": [
    "count = 0\n",
    "\n",
    "print(\"PERCENTAGE CHANGE OF CRIMES -- 2014/15, 2016/17\")\n",
    "print()\n",
    "for key in common_keys:\n",
    "    for dict in [dict_14_15, dict_16_17]:\n",
    "        count += 1\n",
    "        if count % 2 == 0: # Loop was printing two of everything, this prints every other line\n",
    "            print(key, dict_14_15[key], \"(2014/15)\", dict_16_17[key], \"(2016/17)\", \"---> \", percentage_change(dict_14_15[key], dict_16_17[key]))"
   ]
  },
  {
   "cell_type": "code",
   "execution_count": null,
   "id": "770794c5-e230-4cc2-87b3-2d8a4db0fc54",
   "metadata": {},
   "outputs": [],
   "source": [
    "count = 0\n",
    "\n",
    "print(\"PERCENTAGE CHANGE OF CRIMES -- 2016/17, 2018/19\")\n",
    "print()\n",
    "for key in common_keys:\n",
    "    for dict in [dict_16_17, dict_18_19]:\n",
    "        count += 1\n",
    "        if count % 2 == 0: # Loop was printing two of everything, this prints every other line\n",
    "            print(key, dict_16_17[key], \"(2016/17)\", dict_18_19[key], \"(2018/19)\", \"---> \", percentage_change(dict_16_17[key], dict_18_19[key]))"
   ]
  },
  {
   "cell_type": "code",
   "execution_count": null,
   "id": "5a56d054-f130-45ee-bfab-a8fc2938f582",
   "metadata": {},
   "outputs": [],
   "source": [
    "count = 0\n",
    "\n",
    "print(\"PERCENTAGE CHANGE OF CRIMES -- 2018/19, 2020/21\")\n",
    "print()\n",
    "for key in common_keys:\n",
    "    for dict in [dict_18_19, dict_20_21]:\n",
    "        count += 1\n",
    "        if count % 2 == 0: # Loop was printing two of everything, this prints every other line\n",
    "            print(key, dict_18_19[key], \"(2018/19)\", dict_20_21[key], \"(2020/21)\", \"---> \", percentage_change(dict_18_19[key], dict_20_21[key]))"
   ]
  },
  {
   "cell_type": "code",
   "execution_count": null,
   "id": "6bbc68cf-cfc0-43c1-95b2-fbc67a535fdf",
   "metadata": {},
   "outputs": [],
   "source": [
    "count = 0\n",
    "\n",
    "print(\"PERCENTAGE CHANGE OF CRIMES -- 2020/21, 2022/23\")\n",
    "print()\n",
    "for key in common_keys:\n",
    "    for dict in [dict_20_21, dict_22_23]:\n",
    "        count += 1\n",
    "        if count % 2 == 0: # Loop was printing two of everything, this prints every other line\n",
    "            print(key, dict_20_21[key], \"(2020/21)\", dict_22_23[key], \"(2022/23)\", \"---> \", percentage_change(dict_20_21[key], dict_22_23[key]))"
   ]
  },
  {
   "cell_type": "code",
   "execution_count": null,
   "id": "897ab615-d67e-4cc3-aea6-bb26a87ff478",
   "metadata": {},
   "outputs": [],
   "source": [
    "count = 0\n",
    "\n",
    "print(\"PERCENTAGE CHANGE OF CRIMES -- 2010/14 -- 2015/19\")\n",
    "print()\n",
    "for key in common_keys_five:\n",
    "    for dict in [dict_10_14, dict_15_19]:\n",
    "        count += 1\n",
    "        if count % 2 == 0: # Loop was printing two of everything, this prints every other line\n",
    "            print(key, dict_10_14[key], \"(2010/14)\", dict_15_19[key], \"(2015/19)\", \"---> \", percentage_change(dict_10_14[key], dict_15_19[key]))"
   ]
  },
  {
   "cell_type": "code",
   "execution_count": null,
   "id": "0bd41948-fb8e-4f09-b511-5fda70fe290c",
   "metadata": {},
   "outputs": [],
   "source": [
    "count = 0\n",
    "\n",
    "print(\"PERCENTAGE CHANGE OF CRIMES -- 2015/19 -- 2022/23\")\n",
    "print()\n",
    "for key in common_keys_five:\n",
    "    for dict in [dict_15_19, dict_20_23]:\n",
    "        count += 1\n",
    "        if count % 2 == 0: # Loop was printing two of everything, this prints every other line\n",
    "            print(key, dict_15_19[key], \"(2015/19)\", dict_20_23[key], \"(2020/23)\", \"---> \", percentage_change(dict_15_19[key], dict_20_23[key]))"
   ]
  },
  {
   "cell_type": "code",
   "execution_count": null,
   "id": "918ffee5-ab10-48ca-ad5a-70b8f6ce2377",
   "metadata": {},
   "outputs": [],
   "source": [
    "##### % Change for Areas #########"
   ]
  },
  {
   "cell_type": "code",
   "execution_count": null,
   "id": "8a0b64fb-d320-44a6-9ec5-b9c047cc8bb4",
   "metadata": {},
   "outputs": [],
   "source": [
    "common_keys_area = set(dict_10_11_area.keys()) & set(dict_12_13_area.keys()) & set(dict_14_15_area.keys()) & set(dict_16_17_area.keys()) & set(dict_18_19_area.keys()) & set(dict_20_21_area.keys()) & set(dict_22_23_area.keys())\n",
    "common_keys_five_area = set(dict_10_14_area.keys()) & set(dict_15_19_area.keys()) & set(dict_20_23_area.keys())"
   ]
  },
  {
   "cell_type": "code",
   "execution_count": null,
   "id": "3bbfdb98-020b-494c-ab3c-ce4a3753cba8",
   "metadata": {},
   "outputs": [],
   "source": [
    "count = 0\n",
    "\n",
    "print(\"PERCENTAGE CHANGE OF AREAS -- 2010/11, 2012/13\")\n",
    "print()\n",
    "for key in common_keys_area:\n",
    "    for dict in [dict_10_11_area, dict_12_13_area]:\n",
    "        count += 1\n",
    "        if count % 2 == 0: # Loop was printing two of everything, this prints every other line\n",
    "            print(key, dict_10_11_area[key], \"(2010/11)\", dict_12_13_area[key], \"(2012/13)\", \"---> \", percentage_change(dict_10_11_area[key], dict_12_13_area[key]))"
   ]
  },
  {
   "cell_type": "code",
   "execution_count": null,
   "id": "26acddad-9258-428b-8348-3bcad4414f58",
   "metadata": {},
   "outputs": [],
   "source": [
    "count = 0\n",
    "\n",
    "print(\"PERCENTAGE CHANGE OF AREAS -- 2012/13, 2014/15\")\n",
    "print()\n",
    "for key in common_keys_area:\n",
    "    for dict in [dict_12_13_area, dict_14_15_area]:\n",
    "        count += 1\n",
    "        if count % 2 == 0: # Loop was printing two of everything, this prints every other line\n",
    "            print(key, dict_12_13_area[key], \"(2012/13)\", dict_14_15_area[key], \"(2014/15)\", \"---> \", percentage_change(dict_12_13_area[key], dict_14_15_area[key]))"
   ]
  },
  {
   "cell_type": "code",
   "execution_count": null,
   "id": "9dbfc537-b248-4330-8de9-fcf1efeefa87",
   "metadata": {},
   "outputs": [],
   "source": [
    "count = 0\n",
    "\n",
    "print(\"PERCENTAGE CHANGE OF AREAS -- 2014/15, 2016/17\")\n",
    "print()\n",
    "for key in common_keys_area:\n",
    "    for dict in [dict_14_15_area, dict_16_17_area]:\n",
    "        count += 1\n",
    "        if count % 2 == 0: # Loop was printing two of everything, this prints every other line\n",
    "            print(key, dict_14_15_area[key], \"(2014/15)\", dict_16_17_area[key], \"(2016/17)\", \"---> \", percentage_change(dict_14_15_area[key], dict_16_17_area[key]))"
   ]
  },
  {
   "cell_type": "code",
   "execution_count": null,
   "id": "07141125-cbd4-49de-b494-0c9ca5bba8ae",
   "metadata": {},
   "outputs": [],
   "source": [
    "count = 0\n",
    "\n",
    "print(\"PERCENTAGE CHANGE OF AREAS -- 2016/17, 2018/19\")\n",
    "print()\n",
    "for key in common_keys_area:\n",
    "    for dict in [dict_16_17_area, dict_18_19_area]:\n",
    "        count += 1\n",
    "        if count % 2 == 0: # Loop was printing two of everything, this prints every other line\n",
    "            print(key, dict_16_17_area[key], \"(2016/17)\", dict_18_19_area[key], \"(2018/19)\", \"---> \", percentage_change(dict_16_17_area[key], dict_18_19_area[key]))"
   ]
  },
  {
   "cell_type": "code",
   "execution_count": null,
   "id": "f4c15fd8-1e29-4f98-9950-720d987c1669",
   "metadata": {},
   "outputs": [],
   "source": [
    "count = 0\n",
    "\n",
    "print(\"PERCENTAGE CHANGE OF AREAS -- 2018/19, 2020/21\")\n",
    "print()\n",
    "for key in common_keys_area:\n",
    "    for dict in [dict_18_19_area, dict_20_21_area]:\n",
    "        count += 1\n",
    "        if count % 2 == 0: # Loop was printing two of everything, this prints every other line\n",
    "            print(key, dict_18_19_area[key], \"(2018/19)\", dict_20_21_area[key], \"(2020/21)\", \"---> \", percentage_change(dict_18_19_area[key], dict_20_21_area[key]))"
   ]
  },
  {
   "cell_type": "code",
   "execution_count": null,
   "id": "4a8bac54-ff63-46bb-9213-42c4d0d7e672",
   "metadata": {},
   "outputs": [],
   "source": [
    "count = 0\n",
    "\n",
    "print(\"PERCENTAGE CHANGE OF AREAS -- 2020/21, 2022/23\")\n",
    "print()\n",
    "for key in common_keys_area:\n",
    "    for dict in [dict_20_21_area, dict_22_23_area]:\n",
    "        count += 1\n",
    "        if count % 2 == 0: # Loop was printing two of everything, this prints every other line\n",
    "            print(key, dict_20_21_area[key], \"(2020/21)\", dict_22_23_area[key], \"(2022/23)\", \"---> \", percentage_change(dict_20_21_area[key], dict_22_23_area[key]))"
   ]
  },
  {
   "cell_type": "code",
   "execution_count": null,
   "id": "2afb6475-fd5a-4049-9ec2-2eb394d389d9",
   "metadata": {},
   "outputs": [],
   "source": [
    "count = 0\n",
    "\n",
    "print(\"PERCENTAGE CHANGE OF AREAS -- 2010/14, 2015/19\")\n",
    "print()\n",
    "for key in common_keys_five_area:\n",
    "    for dict in [dict_10_14_area, dict_15_19_area]:\n",
    "        count += 1\n",
    "        if count % 2 == 0: # Loop was printing two of everything, this prints every other line\n",
    "            print(key, dict_10_14_area[key], \"(2010/14)\", dict_15_19_area[key], \"(2015/19)\", \"---> \", percentage_change(dict_10_14_area[key], dict_15_19_area[key]))"
   ]
  },
  {
   "cell_type": "code",
   "execution_count": null,
   "id": "c1b8f710-e38e-4c7a-8a6a-fdadeb65fe8c",
   "metadata": {},
   "outputs": [],
   "source": [
    "count = 0\n",
    "\n",
    "print(\"PERCENTAGE CHANGE OF AREAS -- 2015/19, 2020/23\")\n",
    "print()\n",
    "for key in common_keys_five_area:\n",
    "    for dict in [dict_15_19_area, dict_20_23_area]:\n",
    "        count += 1\n",
    "        if count % 2 == 0: # Loop was printing two of everything, this prints every other line\n",
    "            print(key, dict_15_19_area[key], \"(2015/19)\", dict_20_23_area[key], \"(2020/23)\", \"---> \", percentage_change(dict_15_19_area[key], dict_20_23_area[key]))"
   ]
  },
  {
   "cell_type": "code",
   "execution_count": null,
   "id": "c308cf1d-0924-4097-8e56-098b1956cebc",
   "metadata": {},
   "outputs": [],
   "source": [
    "## Coivd Years ##"
   ]
  },
  {
   "cell_type": "code",
   "execution_count": null,
   "id": "abc43238-d630-44f1-9dfa-ebb72a6e10b6",
   "metadata": {
    "tags": []
   },
   "outputs": [],
   "source": [
    "common_keys_covid = set(dict_19.keys()) & set(dict_20.keys()) & set(dict_21.keys()) & set(dict_22.keys())\n",
    "common_keys_covid_area = set(dict_19_area.keys()) & set(dict_20_area.keys()) & set(dict_21_area.keys()) & set(dict_22_area.keys())"
   ]
  },
  {
   "cell_type": "code",
   "execution_count": null,
   "id": "6f587ab6-7255-4c18-ab58-94253b92eb22",
   "metadata": {
    "tags": []
   },
   "outputs": [],
   "source": [
    "count = 0\n",
    "\n",
    "print(\"PERCENTAGE CHANGE OF CRIMES -- 2019, 2020\")\n",
    "print()\n",
    "for key in common_keys_covid:\n",
    "    for dict in [dict_19, dict_20]:\n",
    "        count += 1\n",
    "        if count % 2 == 0: # Loop was printing two of everything, this prints every other line\n",
    "            print(key, dict_19[key], \"(2019)\", dict_20[key], \"(2020)\", \"---> \", percentage_change(dict_19[key], dict_20[key]))"
   ]
  },
  {
   "cell_type": "code",
   "execution_count": null,
   "id": "eafa2f4e-7373-454e-8754-a81769f0712c",
   "metadata": {
    "tags": []
   },
   "outputs": [],
   "source": [
    "count = 0\n",
    "\n",
    "print(\"PERCENTAGE CHANGE OF CRIMES -- 2020, 2021\")\n",
    "print()\n",
    "for key in common_keys_covid:\n",
    "    for dict in [dict_20, dict_21]:\n",
    "        count += 1\n",
    "        if count % 2 == 0: # Loop was printing two of everything, this prints every other line\n",
    "            print(key, dict_20[key], \"(2020)\", dict_21[key], \"(2021)\", \"---> \", percentage_change(dict_20[key], dict_21[key]))"
   ]
  },
  {
   "cell_type": "code",
   "execution_count": null,
   "id": "8fc6f905-5c7a-4070-9760-a33dd010bf9c",
   "metadata": {
    "tags": []
   },
   "outputs": [],
   "source": [
    "count = 0\n",
    "\n",
    "print(\"PERCENTAGE CHANGE OF CRIMES -- 2021, 2022\")\n",
    "print()\n",
    "for key in common_keys_covid:\n",
    "    for dict in [dict_21, dict_22]:\n",
    "        count += 1\n",
    "        if count % 2 == 0: # Loop was printing two of everything, this prints every other line\n",
    "            print(key, dict_21[key], \"(2021)\", dict_22[key], \"(2022)\", \"---> \", percentage_change(dict_21[key], dict_22[key]))"
   ]
  },
  {
   "cell_type": "code",
   "execution_count": null,
   "id": "c84b25af-ca56-4ec5-88cd-4c5f53e759d4",
   "metadata": {
    "tags": []
   },
   "outputs": [],
   "source": [
    "count = 0\n",
    "\n",
    "print(\"PERCENTAGE CHANGE OF AREAS -- 2019, 2020\")\n",
    "print()\n",
    "for key in common_keys_covid_area:\n",
    "    for dict in [dict_19, dict_20]:\n",
    "        count += 1\n",
    "        if count % 2 == 0: # Loop was printing two of everything, this prints every other line\n",
    "            print(key, dict_19_area[key], \"(2019)\", dict_20_area[key], \"(2020)\", \"---> \", percentage_change(dict_19_area[key], dict_20_area[key]))"
   ]
  },
  {
   "cell_type": "code",
   "execution_count": null,
   "id": "a51a3333-3559-448e-bb41-291efadaae20",
   "metadata": {
    "tags": []
   },
   "outputs": [],
   "source": [
    "count = 0\n",
    "\n",
    "print(\"PERCENTAGE CHANGE OF AREAS -- 2020, 2021\")\n",
    "print()\n",
    "for key in common_keys_covid_area:\n",
    "    for dict in [dict_20, dict_21]:\n",
    "        count += 1\n",
    "        if count % 2 == 0: # Loop was printing two of everything, this prints every other line\n",
    "            print(key, dict_20_area[key], \"(2020)\", dict_21_area[key], \"(2021)\", \"---> \", percentage_change(dict_20_area[key], dict_21_area[key]))"
   ]
  },
  {
   "cell_type": "code",
   "execution_count": null,
   "id": "ac3dca08-b88f-4076-ada5-e418fad3b367",
   "metadata": {
    "tags": []
   },
   "outputs": [],
   "source": [
    "count = 0\n",
    "\n",
    "print(\"PERCENTAGE CHANGE OF AREAS -- 2021, 2022\")\n",
    "print()\n",
    "for key in common_keys_covid_area:\n",
    "    for dict in [dict_21, dict_22]:\n",
    "        count += 1\n",
    "        if count % 2 == 0: # Loop was printing two of everything, this prints every other line\n",
    "            print(key, dict_21_area[key], \"(2021)\", dict_22_area[key], \"(2022)\", \"---> \", percentage_change(dict_21_area[key], dict_22_area[key]))"
   ]
  },
  {
   "cell_type": "code",
   "execution_count": null,
   "id": "62f4f0ff-a857-4b5c-988f-3abd656e72a0",
   "metadata": {},
   "outputs": [],
   "source": [
    "###########################"
   ]
  },
  {
   "cell_type": "code",
   "execution_count": null,
   "id": "36570e38-4666-4c4e-84e3-d4e72c25a3e5",
   "metadata": {},
   "outputs": [],
   "source": [
    "#### Work to fill in empty locational data ####"
   ]
  },
  {
   "cell_type": "code",
   "execution_count": null,
   "id": "50a4544a-0f5b-468f-bcf8-37c3cb093eae",
   "metadata": {},
   "outputs": [],
   "source": [
    "final_file = pd.read_csv(\"Actual_Final_Full.csv\")"
   ]
  },
  {
   "cell_type": "code",
   "execution_count": null,
   "id": "77eaaf47-1487-4fb6-8f41-2caea9d83ea4",
   "metadata": {},
   "outputs": [],
   "source": [
    "lat_mean = final_file.loc[:, 'LAT'].mean()\n",
    "lat_mean = round(lat_mean,4)\n",
    "# 34.0389"
   ]
  },
  {
   "cell_type": "code",
   "execution_count": null,
   "id": "acf589c5-724f-44c4-ad7a-c278a5cb9636",
   "metadata": {},
   "outputs": [],
   "source": [
    "lon_mean = final_file.loc[:, 'LON'].mean()\n",
    "lon_mean = round(lon_mean,4)\n",
    "# -118.225"
   ]
  },
  {
   "cell_type": "code",
   "execution_count": null,
   "id": "3c8e5fbc-4d89-4760-b38e-975743c15fb8",
   "metadata": {},
   "outputs": [],
   "source": [
    "lat_list = []\n",
    "for item in final_file['LAT']:\n",
    "    lat_list.append(item)"
   ]
  },
  {
   "cell_type": "code",
   "execution_count": null,
   "id": "71b1010b-8830-4d13-8ed9-f4bfdb714685",
   "metadata": {},
   "outputs": [],
   "source": [
    "for item in range(len(lat_list)):\n",
    "    if lat_list[item] == 0.0:\n",
    "        lat_list[item] = lat_mean"
   ]
  },
  {
   "cell_type": "code",
   "execution_count": null,
   "id": "92b51528-bb2b-48b5-bfa4-38504ca9a685",
   "metadata": {},
   "outputs": [],
   "source": [
    "lon_list = []\n",
    "for item in final_file['LON']:\n",
    "    lon_list.append(item)"
   ]
  },
  {
   "cell_type": "code",
   "execution_count": null,
   "id": "fcd1c9a5-200e-4537-8e76-4718222f13b0",
   "metadata": {},
   "outputs": [],
   "source": [
    "for item in range(len(lon_list)):\n",
    "    if lon_list[item] == 0.0:\n",
    "        lon_list[item] = lon_mean"
   ]
  },
  {
   "cell_type": "code",
   "execution_count": null,
   "id": "2f7d68e9-675f-48fc-951d-b5a0336a3ca4",
   "metadata": {},
   "outputs": [],
   "source": [
    "final_file['LAT'] = lat_list\n",
    "final_file['LON'] = lon_list"
   ]
  },
  {
   "cell_type": "code",
   "execution_count": null,
   "id": "24ed6daf-be10-47fe-ab10-123f8c13cb29",
   "metadata": {},
   "outputs": [],
   "source": [
    "final_file.to_csv(\"LAT_LON_Final.csv\", index = False)"
   ]
  },
  {
   "cell_type": "code",
   "execution_count": null,
   "id": "aac68967-9de1-4dcd-81a7-5f2af0010780",
   "metadata": {},
   "outputs": [],
   "source": [
    "#######################################################"
   ]
  }
 ],
 "metadata": {
  "kernelspec": {
   "display_name": "Python 3 (ipykernel)",
   "language": "python",
   "name": "python3"
  },
  "language_info": {
   "codemirror_mode": {
    "name": "ipython",
    "version": 3
   },
   "file_extension": ".py",
   "mimetype": "text/x-python",
   "name": "python",
   "nbconvert_exporter": "python",
   "pygments_lexer": "ipython3",
   "version": "3.11.7"
  }
 },
 "nbformat": 4,
 "nbformat_minor": 5
}
